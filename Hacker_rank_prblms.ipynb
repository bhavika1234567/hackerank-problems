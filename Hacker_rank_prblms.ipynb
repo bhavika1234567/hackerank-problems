{
  "nbformat": 4,
  "nbformat_minor": 0,
  "metadata": {
    "colab": {
      "provenance": []
    },
    "kernelspec": {
      "name": "python3",
      "display_name": "Python 3"
    },
    "language_info": {
      "name": "python"
    }
  },
  "cells": [
    {
      "cell_type": "code",
      "source": [
        "n = int(input())\n",
        "if n%2!=0:\n",
        "    print(\"Weird\")\n",
        "elif (n%2==0 and 2<= n <=5):\n",
        "    print(\"Not Weird\")\n",
        "elif(n%2==0 and 6<= n <=20):\n",
        "    print(\"Weird\")\n",
        "elif(n%2==0 and n>20):\n",
        "    print(\"Not Weird\")"
      ],
      "metadata": {
        "colab": {
          "base_uri": "https://localhost:8080/"
        },
        "id": "YBm_lP-bt6Jx",
        "outputId": "e2edc0fe-3097-4a57-9ecf-65539af9f330"
      },
      "execution_count": null,
      "outputs": [
        {
          "output_type": "stream",
          "name": "stdout",
          "text": [
            "3\n",
            "Weird\n"
          ]
        }
      ]
    },
    {
      "cell_type": "code",
      "source": [
        "w=int(input(\"enter a number:\"))\n",
        "if(w>2 and w%2==0):\n",
        "    print(\"YES\")\n",
        "else:\n",
        "    print(\"NO\")"
      ],
      "metadata": {
        "id": "Sv4ooDEPAgNw",
        "outputId": "aea5a869-84bf-481d-adeb-8ebadf88a272",
        "colab": {
          "base_uri": "https://localhost:8080/"
        }
      },
      "execution_count": null,
      "outputs": [
        {
          "output_type": "stream",
          "name": "stdout",
          "text": [
            "enter a number:4\n",
            "YES\n"
          ]
        }
      ]
    },
    {
      "cell_type": "code",
      "source": [
        "if __name__ == '__main__':\n",
        "    a = int(input())\n",
        "    b = int(input())\n",
        "print(a//b)\n",
        "print(a/b)"
      ],
      "metadata": {
        "colab": {
          "base_uri": "https://localhost:8080/"
        },
        "id": "R-2YqkQjIbVC",
        "outputId": "ae54611e-440d-4eaa-e58b-f643cae4d373"
      },
      "execution_count": 11,
      "outputs": [
        {
          "output_type": "stream",
          "name": "stdout",
          "text": [
            "6\n",
            "4\n",
            "1\n",
            "1.5\n"
          ]
        }
      ]
    },
    {
      "cell_type": "code",
      "source": [
        "if __name__ == '__main__':\n",
        "    n = int(input())\n",
        "for i in range(0,n):\n",
        "    print(i*i)"
      ],
      "metadata": {
        "colab": {
          "base_uri": "https://localhost:8080/"
        },
        "id": "6Jw137oCIoIY",
        "outputId": "6e21978d-cc66-4303-84b3-1ef7f2e34772"
      },
      "execution_count": 13,
      "outputs": [
        {
          "output_type": "stream",
          "name": "stdout",
          "text": [
            "10\n",
            "0\n",
            "1\n",
            "4\n",
            "9\n",
            "16\n",
            "25\n",
            "36\n",
            "49\n",
            "64\n",
            "81\n"
          ]
        }
      ]
    },
    {
      "cell_type": "code",
      "source": [
        "if __name__ == '__main__':\n",
        "    n = int(input())\n",
        "i=1\n",
        "for i in range(1,n+1):\n",
        "    print(i,end=\" \")"
      ],
      "metadata": {
        "colab": {
          "base_uri": "https://localhost:8080/"
        },
        "id": "uOhn9Z2ZIvQz",
        "outputId": "612c6e61-a0cd-461f-939c-54b8f09f9b34"
      },
      "execution_count": 17,
      "outputs": [
        {
          "output_type": "stream",
          "name": "stdout",
          "text": [
            "10\n",
            "1 2 3 4 5 6 7 8 9 10 "
          ]
        }
      ]
    },
    {
      "cell_type": "code",
      "source": [
        "def is_leap(year):\n",
        "    if(year%400==0)and(year%100==0):\n",
        "        return(\"True\")\n",
        "    elif(year%4==0)and(year%100!=0):\n",
        "        return(\"True\")\n",
        "    else:\n",
        "        return(\"False\")\n",
        "year = int(input())\n",
        "print(is_leap(year))"
      ],
      "metadata": {
        "colab": {
          "base_uri": "https://localhost:8080/"
        },
        "id": "vVlEWqQnI7z5",
        "outputId": "3f5a6272-16fa-435c-9cf0-fdb0f23b8d64"
      },
      "execution_count": 25,
      "outputs": [
        {
          "output_type": "stream",
          "name": "stdout",
          "text": [
            "2024\n",
            "True\n"
          ]
        }
      ]
    }
  ]
}